{
 "cells": [
  {
   "cell_type": "code",
   "execution_count": 17,
   "id": "c7c42a15",
   "metadata": {
    "scrolled": true
   },
   "outputs": [
    {
     "name": "stdout",
     "output_type": "stream",
     "text": [
      "combien de nombre allez vous entrer ?3\n",
      "Donner un nombre42\n",
      "Donner un nombre100\n",
      "Donner un nombre7\n",
      "[100, 42, 7]\n",
      "100\n"
     ]
    }
   ],
   "source": [
    "#question 1\n",
    "\n",
    "def maximum (l):\n",
    "    l=sorted(l,reverse=True)\n",
    "    print(l)\n",
    "    return l[0]\n",
    "    \n",
    "    \n",
    "    \n",
    "a=[]\n",
    "s=int(input(\"combien de nombre allez vous entrer ?\"))\n",
    "for i in range (0,s):\n",
    "    x=int(input(\"Donner un nombre\"))\n",
    "    a.append(x)\n",
    "  \n",
    "    \n",
    "max1=maximum(a)\n",
    "print (max1)\n",
    "  \n"
   ]
  },
  {
   "cell_type": "code",
   "execution_count": 6,
   "id": "1b4158db",
   "metadata": {},
   "outputs": [
    {
     "name": "stdout",
     "output_type": "stream",
     "text": [
      "tappez un entier40\n",
      "tappez un autre entier10\n",
      "(50, 30)\n"
     ]
    }
   ],
   "source": [
    "#question 2 \n",
    "def add(a,b):\n",
    "    S=a+b\n",
    "\n",
    "    if a>b:\n",
    "        M=a-b\n",
    "    else:\n",
    "        M=b-a\n",
    "    return S, M\n",
    "c=int(input(\"tappez un entier\"))\n",
    "d=int(input(\"tappez un autre entier\"))\n",
    "F=add(c,d)\n",
    "print(F)"
   ]
  },
  {
   "cell_type": "code",
   "execution_count": 19,
   "id": "6d65d43b",
   "metadata": {},
   "outputs": [
    {
     "name": "stdout",
     "output_type": "stream",
     "text": [
      "[]\n",
      "quelle est la taille de votre liste4\n",
      "tapez un entier dans votre liste1\n",
      "tapez un entier dans votre liste2\n",
      "tapez un entier dans votre liste3\n",
      "tapez un entier dans votre liste4\n",
      "[1, 3]\n",
      "[2, 4]\n",
      "6 3\n"
     ]
    }
   ],
   "source": [
    "#question 3\n",
    "pair=[]\n",
    "impair=[]\n",
    "A=[]\n",
    "print(pair)\n",
    "def somme(a):\n",
    "    x=0\n",
    "    for i in a:\n",
    "        x+=i\n",
    "    return x\n",
    "\n",
    "def multiplication(b):\n",
    "    y=1\n",
    "    for i in b:\n",
    "        y*=i\n",
    "    return y\n",
    "    \n",
    "n=int(input(\"quelle est la taille de votre liste\"))\n",
    "for i in range (0,n):\n",
    "    O=int(input(\"tapez un entier dans votre liste\"))\n",
    "    A.append(O)\n",
    "for q in range (len(A)):\n",
    "    if q%2==0:\n",
    "        pair.append(A[q])\n",
    "    else:\n",
    "        impair.append(A[q])\n",
    "print(pair)\n",
    "print(impair)\n",
    "ll=somme(impair)\n",
    "p=multiplication(pair)\n",
    "print(ll,p)\n"
   ]
  },
  {
   "cell_type": "code",
   "execution_count": 38,
   "id": "9be7e578",
   "metadata": {},
   "outputs": [
    {
     "name": "stdout",
     "output_type": "stream",
     "text": [
      "tapez une chaine zz,i,u\n"
     ]
    },
    {
     "data": {
      "text/plain": [
       "'zz,i,u'"
      ]
     },
     "execution_count": 38,
     "metadata": {},
     "output_type": "execute_result"
    }
   ],
   "source": [
    "#question 4\n",
    "\n",
    "def alphabet(a):\n",
    "    l=a.split(' ')\n",
    "    l.sort()\n",
    "    ch=\"#\".join(l)\n",
    "    return ch\n",
    "ch=input(\"tapez une chaine \")\n",
    "\n",
    "s=alphabet(ch)\n",
    "s\n"
   ]
  },
  {
   "cell_type": "code",
   "execution_count": 23,
   "id": "9316e28a",
   "metadata": {},
   "outputs": [
    {
     "name": "stdout",
     "output_type": "stream",
     "text": [
      "tapez l'entier D100,150,180\n",
      "['100', '150', '180']\n",
      "18,22,24\n"
     ]
    }
   ],
   "source": [
    "#question 5\n",
    "from math import*\n",
    "Z=[]\n",
    "D=input(\"tapez l'entier D\")\n",
    "C=50\n",
    "H=30\n",
    "def formule(s):\n",
    "    S=sqrt((2 * C * D)/H)\n",
    "    return S\n",
    "D=D.split(',')\n",
    "print(D)\n",
    "for i in D:\n",
    "    D=float(i)\n",
    "    A=formule(D)\n",
    "    A=round(A)\n",
    "    A=str(A)\n",
    "    Z.append(A)\n",
    "Z=\",\".join(Z)\n",
    "    \n",
    "print (Z)\n",
    "\n",
    "\n"
   ]
  },
  {
   "cell_type": "code",
   "execution_count": 22,
   "id": "e4b47250",
   "metadata": {},
   "outputs": [
    {
     "data": {
      "text/plain": [
       "100"
      ]
     },
     "execution_count": 22,
     "metadata": {},
     "output_type": "execute_result"
    }
   ],
   "source": [
    "100\n"
   ]
  },
  {
   "cell_type": "code",
   "execution_count": null,
   "id": "c91efef0",
   "metadata": {},
   "outputs": [],
   "source": []
  }
 ],
 "metadata": {
  "kernelspec": {
   "display_name": "Python 3",
   "language": "python",
   "name": "python3"
  },
  "language_info": {
   "codemirror_mode": {
    "name": "ipython",
    "version": 3
   },
   "file_extension": ".py",
   "mimetype": "text/x-python",
   "name": "python",
   "nbconvert_exporter": "python",
   "pygments_lexer": "ipython3",
   "version": "3.8.8"
  }
 },
 "nbformat": 4,
 "nbformat_minor": 5
}
